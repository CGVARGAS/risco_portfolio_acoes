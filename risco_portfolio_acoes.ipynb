{
 "cells": [
  {
   "cell_type": "markdown",
   "metadata": {},
   "source": [
    "# **Projeto: Calcular risco de portfólio de ações**"
   ]
  },
  {
   "cell_type": "markdown",
   "metadata": {},
   "source": [
    ">Importando bibliotecas Python "
   ]
  },
  {
   "cell_type": "code",
   "execution_count": 21,
   "metadata": {},
   "outputs": [],
   "source": [
    "import pandas as pd\n",
    "import numpy as np\n",
    "import plotly.express as px\n",
    "import yfinance as yf\n",
    "import matplotlib.pyplot as plt \n",
    "import seaborn as sns"
   ]
  },
  {
   "cell_type": "markdown",
   "metadata": {},
   "source": [
    ">Buscando ações na base de dados da Bolsa"
   ]
  },
  {
   "cell_type": "code",
   "execution_count": 22,
   "metadata": {},
   "outputs": [
    {
     "name": "stdout",
     "output_type": "stream",
     "text": [
      "[*********************100%***********************]  1 of 1 completed\n",
      "[*********************100%***********************]  1 of 1 completed\n",
      "[*********************100%***********************]  1 of 1 completed\n",
      "[*********************100%***********************]  1 of 1 completed\n",
      "[*********************100%***********************]  1 of 1 completed\n",
      "[*********************100%***********************]  1 of 1 completed\n"
     ]
    }
   ],
   "source": [
    "busca_acoes = ['PETR4.SA', 'VALE3.SA', 'BBDC4.SA', 'RENT3.SA', 'BRFS3.SA','BOVA11.SA']\n",
    "# Criando uma variável para receber DataFrame utilizando o pandas...\n",
    "dataset2024 = pd.DataFrame()\n",
    "for acao in busca_acoes:\n",
    "    dataset2024[acao] = yf.download(acao, start= '2020-1-1')['Close']"
   ]
  },
  {
   "cell_type": "markdown",
   "metadata": {},
   "source": [
    "> Visualizando as ações no período requerido:"
   ]
  },
  {
   "cell_type": "code",
   "execution_count": 23,
   "metadata": {},
   "outputs": [
    {
     "data": {
      "text/html": [
       "<div>\n",
       "<style scoped>\n",
       "    .dataframe tbody tr th:only-of-type {\n",
       "        vertical-align: middle;\n",
       "    }\n",
       "\n",
       "    .dataframe tbody tr th {\n",
       "        vertical-align: top;\n",
       "    }\n",
       "\n",
       "    .dataframe thead th {\n",
       "        text-align: right;\n",
       "    }\n",
       "</style>\n",
       "<table border=\"1\" class=\"dataframe\">\n",
       "  <thead>\n",
       "    <tr style=\"text-align: right;\">\n",
       "      <th></th>\n",
       "      <th>PETR4.SA</th>\n",
       "      <th>VALE3.SA</th>\n",
       "      <th>BBDC4.SA</th>\n",
       "      <th>RENT3.SA</th>\n",
       "      <th>BRFS3.SA</th>\n",
       "      <th>BOVA11.SA</th>\n",
       "    </tr>\n",
       "    <tr>\n",
       "      <th>Date</th>\n",
       "      <th></th>\n",
       "      <th></th>\n",
       "      <th></th>\n",
       "      <th></th>\n",
       "      <th></th>\n",
       "      <th></th>\n",
       "    </tr>\n",
       "  </thead>\n",
       "  <tbody>\n",
       "    <tr>\n",
       "      <th>2020-01-02</th>\n",
       "      <td>30.700001</td>\n",
       "      <td>54.330002</td>\n",
       "      <td>28.181818</td>\n",
       "      <td>49.619999</td>\n",
       "      <td>35.880001</td>\n",
       "      <td>114.239998</td>\n",
       "    </tr>\n",
       "    <tr>\n",
       "      <th>2020-01-03</th>\n",
       "      <td>30.450001</td>\n",
       "      <td>53.930000</td>\n",
       "      <td>28.181818</td>\n",
       "      <td>48.900002</td>\n",
       "      <td>35.939999</td>\n",
       "      <td>113.800003</td>\n",
       "    </tr>\n",
       "    <tr>\n",
       "      <th>2020-01-06</th>\n",
       "      <td>30.809999</td>\n",
       "      <td>53.610001</td>\n",
       "      <td>27.678436</td>\n",
       "      <td>48.330002</td>\n",
       "      <td>35.570000</td>\n",
       "      <td>112.589996</td>\n",
       "    </tr>\n",
       "    <tr>\n",
       "      <th>2020-01-07</th>\n",
       "      <td>30.690001</td>\n",
       "      <td>54.000000</td>\n",
       "      <td>27.197596</td>\n",
       "      <td>48.799999</td>\n",
       "      <td>35.160000</td>\n",
       "      <td>112.239998</td>\n",
       "    </tr>\n",
       "    <tr>\n",
       "      <th>2020-01-08</th>\n",
       "      <td>30.500000</td>\n",
       "      <td>54.009998</td>\n",
       "      <td>26.776859</td>\n",
       "      <td>48.560001</td>\n",
       "      <td>36.509998</td>\n",
       "      <td>111.949997</td>\n",
       "    </tr>\n",
       "    <tr>\n",
       "      <th>...</th>\n",
       "      <td>...</td>\n",
       "      <td>...</td>\n",
       "      <td>...</td>\n",
       "      <td>...</td>\n",
       "      <td>...</td>\n",
       "      <td>...</td>\n",
       "    </tr>\n",
       "    <tr>\n",
       "      <th>2024-01-16</th>\n",
       "      <td>38.099998</td>\n",
       "      <td>70.620003</td>\n",
       "      <td>15.730000</td>\n",
       "      <td>60.279999</td>\n",
       "      <td>13.030000</td>\n",
       "      <td>125.489998</td>\n",
       "    </tr>\n",
       "    <tr>\n",
       "      <th>2024-01-17</th>\n",
       "      <td>37.880001</td>\n",
       "      <td>69.349998</td>\n",
       "      <td>15.760000</td>\n",
       "      <td>60.939999</td>\n",
       "      <td>12.570000</td>\n",
       "      <td>124.529999</td>\n",
       "    </tr>\n",
       "    <tr>\n",
       "      <th>2024-01-18</th>\n",
       "      <td>37.730000</td>\n",
       "      <td>69.000000</td>\n",
       "      <td>15.670000</td>\n",
       "      <td>59.360001</td>\n",
       "      <td>12.410000</td>\n",
       "      <td>123.559998</td>\n",
       "    </tr>\n",
       "    <tr>\n",
       "      <th>2024-01-19</th>\n",
       "      <td>37.529999</td>\n",
       "      <td>68.099998</td>\n",
       "      <td>15.640000</td>\n",
       "      <td>60.090000</td>\n",
       "      <td>13.000000</td>\n",
       "      <td>123.839996</td>\n",
       "    </tr>\n",
       "    <tr>\n",
       "      <th>2024-01-22</th>\n",
       "      <td>37.700001</td>\n",
       "      <td>67.800003</td>\n",
       "      <td>15.460000</td>\n",
       "      <td>58.709999</td>\n",
       "      <td>13.640000</td>\n",
       "      <td>122.699997</td>\n",
       "    </tr>\n",
       "  </tbody>\n",
       "</table>\n",
       "<p>1008 rows × 6 columns</p>\n",
       "</div>"
      ],
      "text/plain": [
       "             PETR4.SA   VALE3.SA   BBDC4.SA   RENT3.SA   BRFS3.SA   BOVA11.SA\n",
       "Date                                                                         \n",
       "2020-01-02  30.700001  54.330002  28.181818  49.619999  35.880001  114.239998\n",
       "2020-01-03  30.450001  53.930000  28.181818  48.900002  35.939999  113.800003\n",
       "2020-01-06  30.809999  53.610001  27.678436  48.330002  35.570000  112.589996\n",
       "2020-01-07  30.690001  54.000000  27.197596  48.799999  35.160000  112.239998\n",
       "2020-01-08  30.500000  54.009998  26.776859  48.560001  36.509998  111.949997\n",
       "...               ...        ...        ...        ...        ...         ...\n",
       "2024-01-16  38.099998  70.620003  15.730000  60.279999  13.030000  125.489998\n",
       "2024-01-17  37.880001  69.349998  15.760000  60.939999  12.570000  124.529999\n",
       "2024-01-18  37.730000  69.000000  15.670000  59.360001  12.410000  123.559998\n",
       "2024-01-19  37.529999  68.099998  15.640000  60.090000  13.000000  123.839996\n",
       "2024-01-22  37.700001  67.800003  15.460000  58.709999  13.640000  122.699997\n",
       "\n",
       "[1008 rows x 6 columns]"
      ]
     },
     "execution_count": 23,
     "metadata": {},
     "output_type": "execute_result"
    }
   ],
   "source": [
    "dataset2024"
   ]
  },
  {
   "cell_type": "markdown",
   "metadata": {},
   "source": [
    "> Renomeando colunas:"
   ]
  },
  {
   "cell_type": "code",
   "execution_count": 24,
   "metadata": {},
   "outputs": [
    {
     "data": {
      "text/html": [
       "<div>\n",
       "<style scoped>\n",
       "    .dataframe tbody tr th:only-of-type {\n",
       "        vertical-align: middle;\n",
       "    }\n",
       "\n",
       "    .dataframe tbody tr th {\n",
       "        vertical-align: top;\n",
       "    }\n",
       "\n",
       "    .dataframe thead th {\n",
       "        text-align: right;\n",
       "    }\n",
       "</style>\n",
       "<table border=\"1\" class=\"dataframe\">\n",
       "  <thead>\n",
       "    <tr style=\"text-align: right;\">\n",
       "      <th></th>\n",
       "      <th>PETROBRAS</th>\n",
       "      <th>VALE</th>\n",
       "      <th>BRADESCO</th>\n",
       "      <th>RENTACAR</th>\n",
       "      <th>BRFOOD</th>\n",
       "      <th>BOVA</th>\n",
       "    </tr>\n",
       "    <tr>\n",
       "      <th>Date</th>\n",
       "      <th></th>\n",
       "      <th></th>\n",
       "      <th></th>\n",
       "      <th></th>\n",
       "      <th></th>\n",
       "      <th></th>\n",
       "    </tr>\n",
       "  </thead>\n",
       "  <tbody>\n",
       "    <tr>\n",
       "      <th>2020-01-02</th>\n",
       "      <td>30.700001</td>\n",
       "      <td>54.330002</td>\n",
       "      <td>28.181818</td>\n",
       "      <td>49.619999</td>\n",
       "      <td>35.880001</td>\n",
       "      <td>114.239998</td>\n",
       "    </tr>\n",
       "    <tr>\n",
       "      <th>2020-01-03</th>\n",
       "      <td>30.450001</td>\n",
       "      <td>53.930000</td>\n",
       "      <td>28.181818</td>\n",
       "      <td>48.900002</td>\n",
       "      <td>35.939999</td>\n",
       "      <td>113.800003</td>\n",
       "    </tr>\n",
       "    <tr>\n",
       "      <th>2020-01-06</th>\n",
       "      <td>30.809999</td>\n",
       "      <td>53.610001</td>\n",
       "      <td>27.678436</td>\n",
       "      <td>48.330002</td>\n",
       "      <td>35.570000</td>\n",
       "      <td>112.589996</td>\n",
       "    </tr>\n",
       "    <tr>\n",
       "      <th>2020-01-07</th>\n",
       "      <td>30.690001</td>\n",
       "      <td>54.000000</td>\n",
       "      <td>27.197596</td>\n",
       "      <td>48.799999</td>\n",
       "      <td>35.160000</td>\n",
       "      <td>112.239998</td>\n",
       "    </tr>\n",
       "    <tr>\n",
       "      <th>2020-01-08</th>\n",
       "      <td>30.500000</td>\n",
       "      <td>54.009998</td>\n",
       "      <td>26.776859</td>\n",
       "      <td>48.560001</td>\n",
       "      <td>36.509998</td>\n",
       "      <td>111.949997</td>\n",
       "    </tr>\n",
       "    <tr>\n",
       "      <th>...</th>\n",
       "      <td>...</td>\n",
       "      <td>...</td>\n",
       "      <td>...</td>\n",
       "      <td>...</td>\n",
       "      <td>...</td>\n",
       "      <td>...</td>\n",
       "    </tr>\n",
       "    <tr>\n",
       "      <th>2024-01-16</th>\n",
       "      <td>38.099998</td>\n",
       "      <td>70.620003</td>\n",
       "      <td>15.730000</td>\n",
       "      <td>60.279999</td>\n",
       "      <td>13.030000</td>\n",
       "      <td>125.489998</td>\n",
       "    </tr>\n",
       "    <tr>\n",
       "      <th>2024-01-17</th>\n",
       "      <td>37.880001</td>\n",
       "      <td>69.349998</td>\n",
       "      <td>15.760000</td>\n",
       "      <td>60.939999</td>\n",
       "      <td>12.570000</td>\n",
       "      <td>124.529999</td>\n",
       "    </tr>\n",
       "    <tr>\n",
       "      <th>2024-01-18</th>\n",
       "      <td>37.730000</td>\n",
       "      <td>69.000000</td>\n",
       "      <td>15.670000</td>\n",
       "      <td>59.360001</td>\n",
       "      <td>12.410000</td>\n",
       "      <td>123.559998</td>\n",
       "    </tr>\n",
       "    <tr>\n",
       "      <th>2024-01-19</th>\n",
       "      <td>37.529999</td>\n",
       "      <td>68.099998</td>\n",
       "      <td>15.640000</td>\n",
       "      <td>60.090000</td>\n",
       "      <td>13.000000</td>\n",
       "      <td>123.839996</td>\n",
       "    </tr>\n",
       "    <tr>\n",
       "      <th>2024-01-22</th>\n",
       "      <td>37.700001</td>\n",
       "      <td>67.800003</td>\n",
       "      <td>15.460000</td>\n",
       "      <td>58.709999</td>\n",
       "      <td>13.640000</td>\n",
       "      <td>122.699997</td>\n",
       "    </tr>\n",
       "  </tbody>\n",
       "</table>\n",
       "<p>1008 rows × 6 columns</p>\n",
       "</div>"
      ],
      "text/plain": [
       "            PETROBRAS       VALE   BRADESCO   RENTACAR     BRFOOD        BOVA\n",
       "Date                                                                         \n",
       "2020-01-02  30.700001  54.330002  28.181818  49.619999  35.880001  114.239998\n",
       "2020-01-03  30.450001  53.930000  28.181818  48.900002  35.939999  113.800003\n",
       "2020-01-06  30.809999  53.610001  27.678436  48.330002  35.570000  112.589996\n",
       "2020-01-07  30.690001  54.000000  27.197596  48.799999  35.160000  112.239998\n",
       "2020-01-08  30.500000  54.009998  26.776859  48.560001  36.509998  111.949997\n",
       "...               ...        ...        ...        ...        ...         ...\n",
       "2024-01-16  38.099998  70.620003  15.730000  60.279999  13.030000  125.489998\n",
       "2024-01-17  37.880001  69.349998  15.760000  60.939999  12.570000  124.529999\n",
       "2024-01-18  37.730000  69.000000  15.670000  59.360001  12.410000  123.559998\n",
       "2024-01-19  37.529999  68.099998  15.640000  60.090000  13.000000  123.839996\n",
       "2024-01-22  37.700001  67.800003  15.460000  58.709999  13.640000  122.699997\n",
       "\n",
       "[1008 rows x 6 columns]"
      ]
     },
     "execution_count": 24,
     "metadata": {},
     "output_type": "execute_result"
    }
   ],
   "source": [
    "dataset2024 = dataset2024.rename(columns={'PETR4.SA': 'PETROBRAS', 'VALE3.SA': 'VALE', 'BBDC4.SA': 'BRADESCO', 'RENT3.SA': 'RENTACAR', 'BRFS3.SA': 'BRFOOD', 'BOVA11.SA': 'BOVA'})\n",
    "dataset2024"
   ]
  },
  {
   "cell_type": "markdown",
   "metadata": {},
   "source": [
    "> Verificando se há ações nulas:"
   ]
  },
  {
   "cell_type": "code",
   "execution_count": 25,
   "metadata": {},
   "outputs": [
    {
     "data": {
      "text/plain": [
       "PETROBRAS    0\n",
       "VALE         0\n",
       "BRADESCO     0\n",
       "RENTACAR     0\n",
       "BRFOOD       0\n",
       "BOVA         0\n",
       "dtype: int64"
      ]
     },
     "execution_count": 25,
     "metadata": {},
     "output_type": "execute_result"
    }
   ],
   "source": [
    "dataset2024.isnull().sum()"
   ]
  },
  {
   "cell_type": "markdown",
   "metadata": {},
   "source": [
    "*Obs.: Não foram localizadas ações nulas!*\n",
    "________________________________________________________________________________________________________________________________________________________________ "
   ]
  },
  {
   "cell_type": "markdown",
   "metadata": {},
   "source": [
    "> Salvando os dados em arquivo .csv"
   ]
  },
  {
   "cell_type": "code",
   "execution_count": 26,
   "metadata": {},
   "outputs": [],
   "source": [
    "dataset2024.to_csv('acoes.csv')"
   ]
  },
  {
   "cell_type": "markdown",
   "metadata": {},
   "source": [
    "> Lendo o arquivo 'acoes.csv'..."
   ]
  },
  {
   "cell_type": "code",
   "execution_count": 27,
   "metadata": {},
   "outputs": [
    {
     "data": {
      "text/html": [
       "<div>\n",
       "<style scoped>\n",
       "    .dataframe tbody tr th:only-of-type {\n",
       "        vertical-align: middle;\n",
       "    }\n",
       "\n",
       "    .dataframe tbody tr th {\n",
       "        vertical-align: top;\n",
       "    }\n",
       "\n",
       "    .dataframe thead th {\n",
       "        text-align: right;\n",
       "    }\n",
       "</style>\n",
       "<table border=\"1\" class=\"dataframe\">\n",
       "  <thead>\n",
       "    <tr style=\"text-align: right;\">\n",
       "      <th></th>\n",
       "      <th>Date</th>\n",
       "      <th>PETROBRAS</th>\n",
       "      <th>VALE</th>\n",
       "      <th>BRADESCO</th>\n",
       "      <th>RENTACAR</th>\n",
       "      <th>BRFOOD</th>\n",
       "      <th>BOVA</th>\n",
       "    </tr>\n",
       "  </thead>\n",
       "  <tbody>\n",
       "    <tr>\n",
       "      <th>0</th>\n",
       "      <td>2020-01-02</td>\n",
       "      <td>30.700001</td>\n",
       "      <td>54.330002</td>\n",
       "      <td>28.181818</td>\n",
       "      <td>49.619999</td>\n",
       "      <td>35.880001</td>\n",
       "      <td>114.239998</td>\n",
       "    </tr>\n",
       "    <tr>\n",
       "      <th>1</th>\n",
       "      <td>2020-01-03</td>\n",
       "      <td>30.450001</td>\n",
       "      <td>53.930000</td>\n",
       "      <td>28.181818</td>\n",
       "      <td>48.900002</td>\n",
       "      <td>35.939999</td>\n",
       "      <td>113.800003</td>\n",
       "    </tr>\n",
       "    <tr>\n",
       "      <th>2</th>\n",
       "      <td>2020-01-06</td>\n",
       "      <td>30.809999</td>\n",
       "      <td>53.610001</td>\n",
       "      <td>27.678436</td>\n",
       "      <td>48.330002</td>\n",
       "      <td>35.570000</td>\n",
       "      <td>112.589996</td>\n",
       "    </tr>\n",
       "    <tr>\n",
       "      <th>3</th>\n",
       "      <td>2020-01-07</td>\n",
       "      <td>30.690001</td>\n",
       "      <td>54.000000</td>\n",
       "      <td>27.197596</td>\n",
       "      <td>48.799999</td>\n",
       "      <td>35.160000</td>\n",
       "      <td>112.239998</td>\n",
       "    </tr>\n",
       "    <tr>\n",
       "      <th>4</th>\n",
       "      <td>2020-01-08</td>\n",
       "      <td>30.500000</td>\n",
       "      <td>54.009998</td>\n",
       "      <td>26.776859</td>\n",
       "      <td>48.560001</td>\n",
       "      <td>36.509998</td>\n",
       "      <td>111.949997</td>\n",
       "    </tr>\n",
       "    <tr>\n",
       "      <th>...</th>\n",
       "      <td>...</td>\n",
       "      <td>...</td>\n",
       "      <td>...</td>\n",
       "      <td>...</td>\n",
       "      <td>...</td>\n",
       "      <td>...</td>\n",
       "      <td>...</td>\n",
       "    </tr>\n",
       "    <tr>\n",
       "      <th>1003</th>\n",
       "      <td>2024-01-16</td>\n",
       "      <td>38.099998</td>\n",
       "      <td>70.620003</td>\n",
       "      <td>15.730000</td>\n",
       "      <td>60.279999</td>\n",
       "      <td>13.030000</td>\n",
       "      <td>125.489998</td>\n",
       "    </tr>\n",
       "    <tr>\n",
       "      <th>1004</th>\n",
       "      <td>2024-01-17</td>\n",
       "      <td>37.880001</td>\n",
       "      <td>69.349998</td>\n",
       "      <td>15.760000</td>\n",
       "      <td>60.939999</td>\n",
       "      <td>12.570000</td>\n",
       "      <td>124.529999</td>\n",
       "    </tr>\n",
       "    <tr>\n",
       "      <th>1005</th>\n",
       "      <td>2024-01-18</td>\n",
       "      <td>37.730000</td>\n",
       "      <td>69.000000</td>\n",
       "      <td>15.670000</td>\n",
       "      <td>59.360001</td>\n",
       "      <td>12.410000</td>\n",
       "      <td>123.559998</td>\n",
       "    </tr>\n",
       "    <tr>\n",
       "      <th>1006</th>\n",
       "      <td>2024-01-19</td>\n",
       "      <td>37.529999</td>\n",
       "      <td>68.099998</td>\n",
       "      <td>15.640000</td>\n",
       "      <td>60.090000</td>\n",
       "      <td>13.000000</td>\n",
       "      <td>123.839996</td>\n",
       "    </tr>\n",
       "    <tr>\n",
       "      <th>1007</th>\n",
       "      <td>2024-01-22</td>\n",
       "      <td>37.700001</td>\n",
       "      <td>67.800003</td>\n",
       "      <td>15.460000</td>\n",
       "      <td>58.709999</td>\n",
       "      <td>13.640000</td>\n",
       "      <td>122.699997</td>\n",
       "    </tr>\n",
       "  </tbody>\n",
       "</table>\n",
       "<p>1008 rows × 7 columns</p>\n",
       "</div>"
      ],
      "text/plain": [
       "            Date  PETROBRAS       VALE   BRADESCO   RENTACAR     BRFOOD  \\\n",
       "0     2020-01-02  30.700001  54.330002  28.181818  49.619999  35.880001   \n",
       "1     2020-01-03  30.450001  53.930000  28.181818  48.900002  35.939999   \n",
       "2     2020-01-06  30.809999  53.610001  27.678436  48.330002  35.570000   \n",
       "3     2020-01-07  30.690001  54.000000  27.197596  48.799999  35.160000   \n",
       "4     2020-01-08  30.500000  54.009998  26.776859  48.560001  36.509998   \n",
       "...          ...        ...        ...        ...        ...        ...   \n",
       "1003  2024-01-16  38.099998  70.620003  15.730000  60.279999  13.030000   \n",
       "1004  2024-01-17  37.880001  69.349998  15.760000  60.939999  12.570000   \n",
       "1005  2024-01-18  37.730000  69.000000  15.670000  59.360001  12.410000   \n",
       "1006  2024-01-19  37.529999  68.099998  15.640000  60.090000  13.000000   \n",
       "1007  2024-01-22  37.700001  67.800003  15.460000  58.709999  13.640000   \n",
       "\n",
       "            BOVA  \n",
       "0     114.239998  \n",
       "1     113.800003  \n",
       "2     112.589996  \n",
       "3     112.239998  \n",
       "4     111.949997  \n",
       "...          ...  \n",
       "1003  125.489998  \n",
       "1004  124.529999  \n",
       "1005  123.559998  \n",
       "1006  123.839996  \n",
       "1007  122.699997  \n",
       "\n",
       "[1008 rows x 7 columns]"
      ]
     },
     "execution_count": 27,
     "metadata": {},
     "output_type": "execute_result"
    }
   ],
   "source": [
    "dataset2024 = pd.read_csv('acoes.csv')\n",
    "dataset2024"
   ]
  },
  {
   "cell_type": "markdown",
   "metadata": {},
   "source": [
    "> Verificando a quantidade de registros:"
   ]
  },
  {
   "cell_type": "code",
   "execution_count": 28,
   "metadata": {},
   "outputs": [
    {
     "data": {
      "text/plain": [
       "(1008, 7)"
      ]
     },
     "execution_count": 28,
     "metadata": {},
     "output_type": "execute_result"
    }
   ],
   "source": [
    "dataset2024.shape"
   ]
  },
  {
   "cell_type": "markdown",
   "metadata": {},
   "source": [
    "> Efetuando a exclusão da coluna 'Date' "
   ]
  },
  {
   "cell_type": "code",
   "execution_count": 29,
   "metadata": {},
   "outputs": [
    {
     "data": {
      "text/html": [
       "<div>\n",
       "<style scoped>\n",
       "    .dataframe tbody tr th:only-of-type {\n",
       "        vertical-align: middle;\n",
       "    }\n",
       "\n",
       "    .dataframe tbody tr th {\n",
       "        vertical-align: top;\n",
       "    }\n",
       "\n",
       "    .dataframe thead th {\n",
       "        text-align: right;\n",
       "    }\n",
       "</style>\n",
       "<table border=\"1\" class=\"dataframe\">\n",
       "  <thead>\n",
       "    <tr style=\"text-align: right;\">\n",
       "      <th></th>\n",
       "      <th>PETROBRAS</th>\n",
       "      <th>VALE</th>\n",
       "      <th>BRADESCO</th>\n",
       "      <th>RENTACAR</th>\n",
       "      <th>BRFOOD</th>\n",
       "      <th>BOVA</th>\n",
       "    </tr>\n",
       "  </thead>\n",
       "  <tbody>\n",
       "    <tr>\n",
       "      <th>0</th>\n",
       "      <td>30.700001</td>\n",
       "      <td>54.330002</td>\n",
       "      <td>28.181818</td>\n",
       "      <td>49.619999</td>\n",
       "      <td>35.880001</td>\n",
       "      <td>114.239998</td>\n",
       "    </tr>\n",
       "    <tr>\n",
       "      <th>1</th>\n",
       "      <td>30.450001</td>\n",
       "      <td>53.930000</td>\n",
       "      <td>28.181818</td>\n",
       "      <td>48.900002</td>\n",
       "      <td>35.939999</td>\n",
       "      <td>113.800003</td>\n",
       "    </tr>\n",
       "    <tr>\n",
       "      <th>2</th>\n",
       "      <td>30.809999</td>\n",
       "      <td>53.610001</td>\n",
       "      <td>27.678436</td>\n",
       "      <td>48.330002</td>\n",
       "      <td>35.570000</td>\n",
       "      <td>112.589996</td>\n",
       "    </tr>\n",
       "    <tr>\n",
       "      <th>3</th>\n",
       "      <td>30.690001</td>\n",
       "      <td>54.000000</td>\n",
       "      <td>27.197596</td>\n",
       "      <td>48.799999</td>\n",
       "      <td>35.160000</td>\n",
       "      <td>112.239998</td>\n",
       "    </tr>\n",
       "    <tr>\n",
       "      <th>4</th>\n",
       "      <td>30.500000</td>\n",
       "      <td>54.009998</td>\n",
       "      <td>26.776859</td>\n",
       "      <td>48.560001</td>\n",
       "      <td>36.509998</td>\n",
       "      <td>111.949997</td>\n",
       "    </tr>\n",
       "    <tr>\n",
       "      <th>...</th>\n",
       "      <td>...</td>\n",
       "      <td>...</td>\n",
       "      <td>...</td>\n",
       "      <td>...</td>\n",
       "      <td>...</td>\n",
       "      <td>...</td>\n",
       "    </tr>\n",
       "    <tr>\n",
       "      <th>1003</th>\n",
       "      <td>38.099998</td>\n",
       "      <td>70.620003</td>\n",
       "      <td>15.730000</td>\n",
       "      <td>60.279999</td>\n",
       "      <td>13.030000</td>\n",
       "      <td>125.489998</td>\n",
       "    </tr>\n",
       "    <tr>\n",
       "      <th>1004</th>\n",
       "      <td>37.880001</td>\n",
       "      <td>69.349998</td>\n",
       "      <td>15.760000</td>\n",
       "      <td>60.939999</td>\n",
       "      <td>12.570000</td>\n",
       "      <td>124.529999</td>\n",
       "    </tr>\n",
       "    <tr>\n",
       "      <th>1005</th>\n",
       "      <td>37.730000</td>\n",
       "      <td>69.000000</td>\n",
       "      <td>15.670000</td>\n",
       "      <td>59.360001</td>\n",
       "      <td>12.410000</td>\n",
       "      <td>123.559998</td>\n",
       "    </tr>\n",
       "    <tr>\n",
       "      <th>1006</th>\n",
       "      <td>37.529999</td>\n",
       "      <td>68.099998</td>\n",
       "      <td>15.640000</td>\n",
       "      <td>60.090000</td>\n",
       "      <td>13.000000</td>\n",
       "      <td>123.839996</td>\n",
       "    </tr>\n",
       "    <tr>\n",
       "      <th>1007</th>\n",
       "      <td>37.700001</td>\n",
       "      <td>67.800003</td>\n",
       "      <td>15.460000</td>\n",
       "      <td>58.709999</td>\n",
       "      <td>13.640000</td>\n",
       "      <td>122.699997</td>\n",
       "    </tr>\n",
       "  </tbody>\n",
       "</table>\n",
       "<p>1008 rows × 6 columns</p>\n",
       "</div>"
      ],
      "text/plain": [
       "      PETROBRAS       VALE   BRADESCO   RENTACAR     BRFOOD        BOVA\n",
       "0     30.700001  54.330002  28.181818  49.619999  35.880001  114.239998\n",
       "1     30.450001  53.930000  28.181818  48.900002  35.939999  113.800003\n",
       "2     30.809999  53.610001  27.678436  48.330002  35.570000  112.589996\n",
       "3     30.690001  54.000000  27.197596  48.799999  35.160000  112.239998\n",
       "4     30.500000  54.009998  26.776859  48.560001  36.509998  111.949997\n",
       "...         ...        ...        ...        ...        ...         ...\n",
       "1003  38.099998  70.620003  15.730000  60.279999  13.030000  125.489998\n",
       "1004  37.880001  69.349998  15.760000  60.939999  12.570000  124.529999\n",
       "1005  37.730000  69.000000  15.670000  59.360001  12.410000  123.559998\n",
       "1006  37.529999  68.099998  15.640000  60.090000  13.000000  123.839996\n",
       "1007  37.700001  67.800003  15.460000  58.709999  13.640000  122.699997\n",
       "\n",
       "[1008 rows x 6 columns]"
      ]
     },
     "execution_count": 29,
     "metadata": {},
     "output_type": "execute_result"
    }
   ],
   "source": [
    "dataset2024.drop(labels=['Date'], axis=1, inplace=True)\n",
    "dataset2024"
   ]
  },
  {
   "cell_type": "markdown",
   "metadata": {},
   "source": [
    "> Calculando taxas de retorno simples anuais"
   ]
  },
  {
   "cell_type": "code",
   "execution_count": 30,
   "metadata": {},
   "outputs": [
    {
     "data": {
      "text/html": [
       "<div>\n",
       "<style scoped>\n",
       "    .dataframe tbody tr th:only-of-type {\n",
       "        vertical-align: middle;\n",
       "    }\n",
       "\n",
       "    .dataframe tbody tr th {\n",
       "        vertical-align: top;\n",
       "    }\n",
       "\n",
       "    .dataframe thead th {\n",
       "        text-align: right;\n",
       "    }\n",
       "</style>\n",
       "<table border=\"1\" class=\"dataframe\">\n",
       "  <thead>\n",
       "    <tr style=\"text-align: right;\">\n",
       "      <th></th>\n",
       "      <th>PETROBRAS</th>\n",
       "      <th>VALE</th>\n",
       "      <th>BRADESCO</th>\n",
       "      <th>RENTACAR</th>\n",
       "      <th>BRFOOD</th>\n",
       "      <th>BOVA</th>\n",
       "    </tr>\n",
       "  </thead>\n",
       "  <tbody>\n",
       "    <tr>\n",
       "      <th>0</th>\n",
       "      <td>NaN</td>\n",
       "      <td>NaN</td>\n",
       "      <td>NaN</td>\n",
       "      <td>NaN</td>\n",
       "      <td>NaN</td>\n",
       "      <td>NaN</td>\n",
       "    </tr>\n",
       "    <tr>\n",
       "      <th>1</th>\n",
       "      <td>-0.008143</td>\n",
       "      <td>-0.007362</td>\n",
       "      <td>0.000000</td>\n",
       "      <td>-0.014510</td>\n",
       "      <td>0.001672</td>\n",
       "      <td>-0.003851</td>\n",
       "    </tr>\n",
       "    <tr>\n",
       "      <th>2</th>\n",
       "      <td>0.011823</td>\n",
       "      <td>-0.005934</td>\n",
       "      <td>-0.017862</td>\n",
       "      <td>-0.011656</td>\n",
       "      <td>-0.010295</td>\n",
       "      <td>-0.010633</td>\n",
       "    </tr>\n",
       "    <tr>\n",
       "      <th>3</th>\n",
       "      <td>-0.003895</td>\n",
       "      <td>0.007275</td>\n",
       "      <td>-0.017372</td>\n",
       "      <td>0.009725</td>\n",
       "      <td>-0.011527</td>\n",
       "      <td>-0.003109</td>\n",
       "    </tr>\n",
       "    <tr>\n",
       "      <th>4</th>\n",
       "      <td>-0.006191</td>\n",
       "      <td>0.000185</td>\n",
       "      <td>-0.015470</td>\n",
       "      <td>-0.004918</td>\n",
       "      <td>0.038396</td>\n",
       "      <td>-0.002584</td>\n",
       "    </tr>\n",
       "    <tr>\n",
       "      <th>...</th>\n",
       "      <td>...</td>\n",
       "      <td>...</td>\n",
       "      <td>...</td>\n",
       "      <td>...</td>\n",
       "      <td>...</td>\n",
       "      <td>...</td>\n",
       "    </tr>\n",
       "    <tr>\n",
       "      <th>1003</th>\n",
       "      <td>-0.012442</td>\n",
       "      <td>-0.012998</td>\n",
       "      <td>-0.008822</td>\n",
       "      <td>-0.014711</td>\n",
       "      <td>-0.007616</td>\n",
       "      <td>-0.018229</td>\n",
       "    </tr>\n",
       "    <tr>\n",
       "      <th>1004</th>\n",
       "      <td>-0.005774</td>\n",
       "      <td>-0.017984</td>\n",
       "      <td>0.001907</td>\n",
       "      <td>0.010949</td>\n",
       "      <td>-0.035303</td>\n",
       "      <td>-0.007650</td>\n",
       "    </tr>\n",
       "    <tr>\n",
       "      <th>1005</th>\n",
       "      <td>-0.003960</td>\n",
       "      <td>-0.005047</td>\n",
       "      <td>-0.005711</td>\n",
       "      <td>-0.025927</td>\n",
       "      <td>-0.012729</td>\n",
       "      <td>-0.007789</td>\n",
       "    </tr>\n",
       "    <tr>\n",
       "      <th>1006</th>\n",
       "      <td>-0.005301</td>\n",
       "      <td>-0.013044</td>\n",
       "      <td>-0.001914</td>\n",
       "      <td>0.012298</td>\n",
       "      <td>0.047542</td>\n",
       "      <td>0.002266</td>\n",
       "    </tr>\n",
       "    <tr>\n",
       "      <th>1007</th>\n",
       "      <td>0.004530</td>\n",
       "      <td>-0.004405</td>\n",
       "      <td>-0.011509</td>\n",
       "      <td>-0.022966</td>\n",
       "      <td>0.049231</td>\n",
       "      <td>-0.009205</td>\n",
       "    </tr>\n",
       "  </tbody>\n",
       "</table>\n",
       "<p>1008 rows × 6 columns</p>\n",
       "</div>"
      ],
      "text/plain": [
       "      PETROBRAS      VALE  BRADESCO  RENTACAR    BRFOOD      BOVA\n",
       "0           NaN       NaN       NaN       NaN       NaN       NaN\n",
       "1     -0.008143 -0.007362  0.000000 -0.014510  0.001672 -0.003851\n",
       "2      0.011823 -0.005934 -0.017862 -0.011656 -0.010295 -0.010633\n",
       "3     -0.003895  0.007275 -0.017372  0.009725 -0.011527 -0.003109\n",
       "4     -0.006191  0.000185 -0.015470 -0.004918  0.038396 -0.002584\n",
       "...         ...       ...       ...       ...       ...       ...\n",
       "1003  -0.012442 -0.012998 -0.008822 -0.014711 -0.007616 -0.018229\n",
       "1004  -0.005774 -0.017984  0.001907  0.010949 -0.035303 -0.007650\n",
       "1005  -0.003960 -0.005047 -0.005711 -0.025927 -0.012729 -0.007789\n",
       "1006  -0.005301 -0.013044 -0.001914  0.012298  0.047542  0.002266\n",
       "1007   0.004530 -0.004405 -0.011509 -0.022966  0.049231 -0.009205\n",
       "\n",
       "[1008 rows x 6 columns]"
      ]
     },
     "execution_count": 30,
     "metadata": {},
     "output_type": "execute_result"
    }
   ],
   "source": [
    "taxa_retorno = (dataset2024 / dataset2024.shift(1)) - 1\n",
    "taxa_retorno"
   ]
  },
  {
   "cell_type": "markdown",
   "metadata": {},
   "source": [
    "> Correlação entre as ações:"
   ]
  },
  {
   "cell_type": "code",
   "execution_count": 31,
   "metadata": {},
   "outputs": [
    {
     "data": {
      "text/html": [
       "<div>\n",
       "<style scoped>\n",
       "    .dataframe tbody tr th:only-of-type {\n",
       "        vertical-align: middle;\n",
       "    }\n",
       "\n",
       "    .dataframe tbody tr th {\n",
       "        vertical-align: top;\n",
       "    }\n",
       "\n",
       "    .dataframe thead th {\n",
       "        text-align: right;\n",
       "    }\n",
       "</style>\n",
       "<table border=\"1\" class=\"dataframe\">\n",
       "  <thead>\n",
       "    <tr style=\"text-align: right;\">\n",
       "      <th></th>\n",
       "      <th>PETROBRAS</th>\n",
       "      <th>VALE</th>\n",
       "      <th>BRADESCO</th>\n",
       "      <th>RENTACAR</th>\n",
       "      <th>BRFOOD</th>\n",
       "      <th>BOVA</th>\n",
       "    </tr>\n",
       "  </thead>\n",
       "  <tbody>\n",
       "    <tr>\n",
       "      <th>PETROBRAS</th>\n",
       "      <td>0.000977</td>\n",
       "      <td>0.000371</td>\n",
       "      <td>0.000406</td>\n",
       "      <td>0.000418</td>\n",
       "      <td>0.000360</td>\n",
       "      <td>0.000393</td>\n",
       "    </tr>\n",
       "    <tr>\n",
       "      <th>VALE</th>\n",
       "      <td>0.000371</td>\n",
       "      <td>0.000656</td>\n",
       "      <td>0.000250</td>\n",
       "      <td>0.000238</td>\n",
       "      <td>0.000198</td>\n",
       "      <td>0.000284</td>\n",
       "    </tr>\n",
       "    <tr>\n",
       "      <th>BRADESCO</th>\n",
       "      <td>0.000406</td>\n",
       "      <td>0.000250</td>\n",
       "      <td>0.000612</td>\n",
       "      <td>0.000405</td>\n",
       "      <td>0.000337</td>\n",
       "      <td>0.000338</td>\n",
       "    </tr>\n",
       "    <tr>\n",
       "      <th>RENTACAR</th>\n",
       "      <td>0.000418</td>\n",
       "      <td>0.000238</td>\n",
       "      <td>0.000405</td>\n",
       "      <td>0.000952</td>\n",
       "      <td>0.000422</td>\n",
       "      <td>0.000391</td>\n",
       "    </tr>\n",
       "    <tr>\n",
       "      <th>BRFOOD</th>\n",
       "      <td>0.000360</td>\n",
       "      <td>0.000198</td>\n",
       "      <td>0.000337</td>\n",
       "      <td>0.000422</td>\n",
       "      <td>0.001197</td>\n",
       "      <td>0.000312</td>\n",
       "    </tr>\n",
       "    <tr>\n",
       "      <th>BOVA</th>\n",
       "      <td>0.000393</td>\n",
       "      <td>0.000284</td>\n",
       "      <td>0.000338</td>\n",
       "      <td>0.000391</td>\n",
       "      <td>0.000312</td>\n",
       "      <td>0.000315</td>\n",
       "    </tr>\n",
       "  </tbody>\n",
       "</table>\n",
       "</div>"
      ],
      "text/plain": [
       "           PETROBRAS      VALE  BRADESCO  RENTACAR    BRFOOD      BOVA\n",
       "PETROBRAS   0.000977  0.000371  0.000406  0.000418  0.000360  0.000393\n",
       "VALE        0.000371  0.000656  0.000250  0.000238  0.000198  0.000284\n",
       "BRADESCO    0.000406  0.000250  0.000612  0.000405  0.000337  0.000338\n",
       "RENTACAR    0.000418  0.000238  0.000405  0.000952  0.000422  0.000391\n",
       "BRFOOD      0.000360  0.000198  0.000337  0.000422  0.001197  0.000312\n",
       "BOVA        0.000393  0.000284  0.000338  0.000391  0.000312  0.000315"
      ]
     },
     "execution_count": 31,
     "metadata": {},
     "output_type": "execute_result"
    }
   ],
   "source": [
    "taxa_retorno.cov()"
   ]
  },
  {
   "cell_type": "markdown",
   "metadata": {},
   "source": [
    "> Obs.: Como os valores das ações são muito pequenos efetua-se o calculo das correlações conforme o código abaixo...\n",
    "\n",
    "Calculo das correlações:\n",
    "\n",
    "> Tabela utilizada para verificar a correlação entre as ações tanto de empresas de nichos diferentes quanto iguais"
   ]
  },
  {
   "cell_type": "code",
   "execution_count": 32,
   "metadata": {},
   "outputs": [
    {
     "data": {
      "text/html": [
       "<div>\n",
       "<style scoped>\n",
       "    .dataframe tbody tr th:only-of-type {\n",
       "        vertical-align: middle;\n",
       "    }\n",
       "\n",
       "    .dataframe tbody tr th {\n",
       "        vertical-align: top;\n",
       "    }\n",
       "\n",
       "    .dataframe thead th {\n",
       "        text-align: right;\n",
       "    }\n",
       "</style>\n",
       "<table border=\"1\" class=\"dataframe\">\n",
       "  <thead>\n",
       "    <tr style=\"text-align: right;\">\n",
       "      <th></th>\n",
       "      <th>PETROBRAS</th>\n",
       "      <th>VALE</th>\n",
       "      <th>BRADESCO</th>\n",
       "      <th>RENTACAR</th>\n",
       "      <th>BRFOOD</th>\n",
       "      <th>BOVA</th>\n",
       "    </tr>\n",
       "  </thead>\n",
       "  <tbody>\n",
       "    <tr>\n",
       "      <th>PETROBRAS</th>\n",
       "      <td>1.000000</td>\n",
       "      <td>0.463456</td>\n",
       "      <td>0.524608</td>\n",
       "      <td>0.433121</td>\n",
       "      <td>0.332472</td>\n",
       "      <td>0.707243</td>\n",
       "    </tr>\n",
       "    <tr>\n",
       "      <th>VALE</th>\n",
       "      <td>0.463456</td>\n",
       "      <td>1.000000</td>\n",
       "      <td>0.395227</td>\n",
       "      <td>0.301778</td>\n",
       "      <td>0.223882</td>\n",
       "      <td>0.624916</td>\n",
       "    </tr>\n",
       "    <tr>\n",
       "      <th>BRADESCO</th>\n",
       "      <td>0.524608</td>\n",
       "      <td>0.395227</td>\n",
       "      <td>1.000000</td>\n",
       "      <td>0.530488</td>\n",
       "      <td>0.393788</td>\n",
       "      <td>0.769751</td>\n",
       "    </tr>\n",
       "    <tr>\n",
       "      <th>RENTACAR</th>\n",
       "      <td>0.433121</td>\n",
       "      <td>0.301778</td>\n",
       "      <td>0.530488</td>\n",
       "      <td>1.000000</td>\n",
       "      <td>0.395141</td>\n",
       "      <td>0.713425</td>\n",
       "    </tr>\n",
       "    <tr>\n",
       "      <th>BRFOOD</th>\n",
       "      <td>0.332472</td>\n",
       "      <td>0.223882</td>\n",
       "      <td>0.393788</td>\n",
       "      <td>0.395141</td>\n",
       "      <td>1.000000</td>\n",
       "      <td>0.508396</td>\n",
       "    </tr>\n",
       "    <tr>\n",
       "      <th>BOVA</th>\n",
       "      <td>0.707243</td>\n",
       "      <td>0.624916</td>\n",
       "      <td>0.769751</td>\n",
       "      <td>0.713425</td>\n",
       "      <td>0.508396</td>\n",
       "      <td>1.000000</td>\n",
       "    </tr>\n",
       "  </tbody>\n",
       "</table>\n",
       "</div>"
      ],
      "text/plain": [
       "           PETROBRAS      VALE  BRADESCO  RENTACAR    BRFOOD      BOVA\n",
       "PETROBRAS   1.000000  0.463456  0.524608  0.433121  0.332472  0.707243\n",
       "VALE        0.463456  1.000000  0.395227  0.301778  0.223882  0.624916\n",
       "BRADESCO    0.524608  0.395227  1.000000  0.530488  0.393788  0.769751\n",
       "RENTACAR    0.433121  0.301778  0.530488  1.000000  0.395141  0.713425\n",
       "BRFOOD      0.332472  0.223882  0.393788  0.395141  1.000000  0.508396\n",
       "BOVA        0.707243  0.624916  0.769751  0.713425  0.508396  1.000000"
      ]
     },
     "execution_count": 32,
     "metadata": {},
     "output_type": "execute_result"
    }
   ],
   "source": [
    "# Empresas BOVA: http://bvmf.bmfbovespa.com.br/indices/ResumoCarteiraQuadrimestre.aspx?Indice=IBOV&idioma=pt-br\n",
    "taxa_retorno.corr()"
   ]
  },
  {
   "cell_type": "markdown",
   "metadata": {},
   "source": [
    "Gráfico de correlação de ações:\n",
    "\n",
    "> Obs.: Verifica a correlação entre as ações indicando as fortes das fracas"
   ]
  },
  {
   "cell_type": "code",
   "execution_count": 33,
   "metadata": {},
   "outputs": [
    {
     "data": {
      "image/png": "[encoded data removed]",
      "text/plain": [
       "<Figure size 800x800 with 2 Axes>"
      ]
     },
     "metadata": {},
     "output_type": "display_data"
    }
   ],
   "source": [
    "plt.figure(figsize=(8, 8))\n",
    "sns.heatmap(taxa_retorno.corr(), annot=True);"
   ]
  },
  {
   "cell_type": "markdown",
   "metadata": {},
   "source": [
    "### \"Tudo sobre Correlação de Ações: Entenda a Força e Fraqueza nas Relações de Preços\"\n",
    "\n",
    "A correlação entre ações refere-se à medida estatística que descreve a relação entre os movimentos de preços de duas ou mais ações. A correlação pode ser positiva, negativa ou neutra.\n",
    "\n",
    "- Correlação Positiva: Quando duas ações têm uma correlação positiva, seus preços geralmente se movem na mesma direção. Se uma ação sobe, a outra também tende a subir, e vice-versa.\n",
    "\n",
    "- Correlação Negativa: Se duas ações têm uma correlação negativa, seus preços geralmente se movem em direções opostas. Quando uma ação sobe, a outra tende a cair, e vice-versa.\n",
    "\n",
    "- Correlação Neutra: Indica que não há uma relação significativa entre os movimentos de preços das ações; seus caminhos são independentes.\n",
    "\n",
    "A força ou fraqueza da correlação é medida pelo coeficiente de correlação, que varia de -1 a 1. Um valor próximo de 1 indica uma forte correlação positiva, enquanto um valor próximo de -1 indica uma forte correlação negativa. Um valor próximo de 0 sugere uma correlação fraca ou neutra.\n",
    "\n",
    "Por exemplo, se você possui ações de empresas em setores diferentes, como tecnologia e energia, e essas ações têm uma correlação negativa, isso pode ser benéfico para diversificar seu portfólio. Se uma ação enfraquece, a outra pode se fortalecer, ajudando a equilibrar o risco.\n",
    "\n",
    "Em resumo, entender a correlação entre ações é crucial para construir um portfólio diversificado e gerenciar o risco de investimento. A força ou fraqueza dessa correlação determina como as ações se movem em relação umas às outras.\n",
    "______________________________________________________________________________________________________________________________________________________________"
   ]
  },
  {
   "cell_type": "markdown",
   "metadata": {},
   "source": [
    "# **Risco de portifólio de ações**"
   ]
  },
  {
   "cell_type": "code",
   "execution_count": 34,
   "metadata": {},
   "outputs": [
    {
     "data": {
      "text/html": [
       "<div>\n",
       "<style scoped>\n",
       "    .dataframe tbody tr th:only-of-type {\n",
       "        vertical-align: middle;\n",
       "    }\n",
       "\n",
       "    .dataframe tbody tr th {\n",
       "        vertical-align: top;\n",
       "    }\n",
       "\n",
       "    .dataframe thead th {\n",
       "        text-align: right;\n",
       "    }\n",
       "</style>\n",
       "<table border=\"1\" class=\"dataframe\">\n",
       "  <thead>\n",
       "    <tr style=\"text-align: right;\">\n",
       "      <th></th>\n",
       "      <th>PETROBRAS</th>\n",
       "      <th>VALE</th>\n",
       "      <th>BRADESCO</th>\n",
       "      <th>RENTACAR</th>\n",
       "      <th>BRFOOD</th>\n",
       "      <th>BOVA</th>\n",
       "    </tr>\n",
       "  </thead>\n",
       "  <tbody>\n",
       "    <tr>\n",
       "      <th>0</th>\n",
       "      <td>NaN</td>\n",
       "      <td>NaN</td>\n",
       "      <td>NaN</td>\n",
       "      <td>NaN</td>\n",
       "      <td>NaN</td>\n",
       "      <td>NaN</td>\n",
       "    </tr>\n",
       "    <tr>\n",
       "      <th>1</th>\n",
       "      <td>-0.008143</td>\n",
       "      <td>-0.007362</td>\n",
       "      <td>0.000000</td>\n",
       "      <td>-0.014510</td>\n",
       "      <td>0.001672</td>\n",
       "      <td>-0.003851</td>\n",
       "    </tr>\n",
       "    <tr>\n",
       "      <th>2</th>\n",
       "      <td>0.011823</td>\n",
       "      <td>-0.005934</td>\n",
       "      <td>-0.017862</td>\n",
       "      <td>-0.011656</td>\n",
       "      <td>-0.010295</td>\n",
       "      <td>-0.010633</td>\n",
       "    </tr>\n",
       "    <tr>\n",
       "      <th>3</th>\n",
       "      <td>-0.003895</td>\n",
       "      <td>0.007275</td>\n",
       "      <td>-0.017372</td>\n",
       "      <td>0.009725</td>\n",
       "      <td>-0.011527</td>\n",
       "      <td>-0.003109</td>\n",
       "    </tr>\n",
       "    <tr>\n",
       "      <th>4</th>\n",
       "      <td>-0.006191</td>\n",
       "      <td>0.000185</td>\n",
       "      <td>-0.015470</td>\n",
       "      <td>-0.004918</td>\n",
       "      <td>0.038396</td>\n",
       "      <td>-0.002584</td>\n",
       "    </tr>\n",
       "    <tr>\n",
       "      <th>...</th>\n",
       "      <td>...</td>\n",
       "      <td>...</td>\n",
       "      <td>...</td>\n",
       "      <td>...</td>\n",
       "      <td>...</td>\n",
       "      <td>...</td>\n",
       "    </tr>\n",
       "    <tr>\n",
       "      <th>1003</th>\n",
       "      <td>-0.012442</td>\n",
       "      <td>-0.012998</td>\n",
       "      <td>-0.008822</td>\n",
       "      <td>-0.014711</td>\n",
       "      <td>-0.007616</td>\n",
       "      <td>-0.018229</td>\n",
       "    </tr>\n",
       "    <tr>\n",
       "      <th>1004</th>\n",
       "      <td>-0.005774</td>\n",
       "      <td>-0.017984</td>\n",
       "      <td>0.001907</td>\n",
       "      <td>0.010949</td>\n",
       "      <td>-0.035303</td>\n",
       "      <td>-0.007650</td>\n",
       "    </tr>\n",
       "    <tr>\n",
       "      <th>1005</th>\n",
       "      <td>-0.003960</td>\n",
       "      <td>-0.005047</td>\n",
       "      <td>-0.005711</td>\n",
       "      <td>-0.025927</td>\n",
       "      <td>-0.012729</td>\n",
       "      <td>-0.007789</td>\n",
       "    </tr>\n",
       "    <tr>\n",
       "      <th>1006</th>\n",
       "      <td>-0.005301</td>\n",
       "      <td>-0.013044</td>\n",
       "      <td>-0.001914</td>\n",
       "      <td>0.012298</td>\n",
       "      <td>0.047542</td>\n",
       "      <td>0.002266</td>\n",
       "    </tr>\n",
       "    <tr>\n",
       "      <th>1007</th>\n",
       "      <td>0.004530</td>\n",
       "      <td>-0.004405</td>\n",
       "      <td>-0.011509</td>\n",
       "      <td>-0.022966</td>\n",
       "      <td>0.049231</td>\n",
       "      <td>-0.009205</td>\n",
       "    </tr>\n",
       "  </tbody>\n",
       "</table>\n",
       "<p>1008 rows × 6 columns</p>\n",
       "</div>"
      ],
      "text/plain": [
       "      PETROBRAS      VALE  BRADESCO  RENTACAR    BRFOOD      BOVA\n",
       "0           NaN       NaN       NaN       NaN       NaN       NaN\n",
       "1     -0.008143 -0.007362  0.000000 -0.014510  0.001672 -0.003851\n",
       "2      0.011823 -0.005934 -0.017862 -0.011656 -0.010295 -0.010633\n",
       "3     -0.003895  0.007275 -0.017372  0.009725 -0.011527 -0.003109\n",
       "4     -0.006191  0.000185 -0.015470 -0.004918  0.038396 -0.002584\n",
       "...         ...       ...       ...       ...       ...       ...\n",
       "1003  -0.012442 -0.012998 -0.008822 -0.014711 -0.007616 -0.018229\n",
       "1004  -0.005774 -0.017984  0.001907  0.010949 -0.035303 -0.007650\n",
       "1005  -0.003960 -0.005047 -0.005711 -0.025927 -0.012729 -0.007789\n",
       "1006  -0.005301 -0.013044 -0.001914  0.012298  0.047542  0.002266\n",
       "1007   0.004530 -0.004405 -0.011509 -0.022966  0.049231 -0.009205\n",
       "\n",
       "[1008 rows x 6 columns]"
      ]
     },
     "execution_count": 34,
     "metadata": {},
     "output_type": "execute_result"
    }
   ],
   "source": [
    "taxa_retorno"
   ]
  },
  {
   "cell_type": "markdown",
   "metadata": {},
   "source": [
    "> Definindo pesos para todas as ações menos para 'BOVA'"
   ]
  },
  {
   "cell_type": "code",
   "execution_count": 41,
   "metadata": {},
   "outputs": [
    {
     "data": {
      "text/plain": [
       "Index(['PETROBRAS', 'VALE', 'BRADESCO', 'RENTACAR', 'BRFOOD', 'BOVA'], dtype='object')"
      ]
     },
     "execution_count": 41,
     "metadata": {},
     "output_type": "execute_result"
    }
   ],
   "source": [
    "dataset2024.columns"
   ]
  },
  {
   "cell_type": "markdown",
   "metadata": {},
   "source": [
    ">Obs.: O intuito é calcularmos o risco de investir em uma carteira de ações individuais, para verificar se o risco é maior ou menor, do que fazer investimento diretamente no indice Ibovespa."
   ]
  },
  {
   "cell_type": "code",
   "execution_count": 36,
   "metadata": {},
   "outputs": [],
   "source": [
    "pesos1 = np.array([0.2, 0.2, 0.2, 0.2, 0.2, 0.0])"
   ]
  },
  {
   "cell_type": "code",
   "execution_count": 42,
   "metadata": {},
   "outputs": [
    {
     "data": {
      "text/plain": [
       "1.0"
      ]
     },
     "execution_count": 42,
     "metadata": {},
     "output_type": "execute_result"
    }
   ],
   "source": [
    "# Lembrando que a soma dos pesos das ações tem que ter o resultado de 1.0...\n",
    "pesos1.sum()"
   ]
  },
  {
   "cell_type": "markdown",
   "metadata": {},
   "source": [
    "> Gerando a matriz de covariância anual:\n",
    "\n",
    "> Multiplicando-se a taxa de retorno covariante por **246** que é o **número de dias** que a Bolsa de Valores atuou no mercado no ano..."
   ]
  },
  {
   "cell_type": "code",
   "execution_count": 38,
   "metadata": {},
   "outputs": [
    {
     "data": {
      "text/html": [
       "<div>\n",
       "<style scoped>\n",
       "    .dataframe tbody tr th:only-of-type {\n",
       "        vertical-align: middle;\n",
       "    }\n",
       "\n",
       "    .dataframe tbody tr th {\n",
       "        vertical-align: top;\n",
       "    }\n",
       "\n",
       "    .dataframe thead th {\n",
       "        text-align: right;\n",
       "    }\n",
       "</style>\n",
       "<table border=\"1\" class=\"dataframe\">\n",
       "  <thead>\n",
       "    <tr style=\"text-align: right;\">\n",
       "      <th></th>\n",
       "      <th>PETROBRAS</th>\n",
       "      <th>VALE</th>\n",
       "      <th>BRADESCO</th>\n",
       "      <th>RENTACAR</th>\n",
       "      <th>BRFOOD</th>\n",
       "      <th>BOVA</th>\n",
       "    </tr>\n",
       "  </thead>\n",
       "  <tbody>\n",
       "    <tr>\n",
       "      <th>PETROBRAS</th>\n",
       "      <td>0.240391</td>\n",
       "      <td>0.091267</td>\n",
       "      <td>0.099822</td>\n",
       "      <td>0.102751</td>\n",
       "      <td>0.088450</td>\n",
       "      <td>0.096568</td>\n",
       "    </tr>\n",
       "    <tr>\n",
       "      <th>VALE</th>\n",
       "      <td>0.091267</td>\n",
       "      <td>0.161322</td>\n",
       "      <td>0.061606</td>\n",
       "      <td>0.058648</td>\n",
       "      <td>0.048792</td>\n",
       "      <td>0.069900</td>\n",
       "    </tr>\n",
       "    <tr>\n",
       "      <th>BRADESCO</th>\n",
       "      <td>0.099822</td>\n",
       "      <td>0.061606</td>\n",
       "      <td>0.150614</td>\n",
       "      <td>0.099615</td>\n",
       "      <td>0.082924</td>\n",
       "      <td>0.083194</td>\n",
       "    </tr>\n",
       "    <tr>\n",
       "      <th>RENTACAR</th>\n",
       "      <td>0.102751</td>\n",
       "      <td>0.058648</td>\n",
       "      <td>0.099615</td>\n",
       "      <td>0.234118</td>\n",
       "      <td>0.103742</td>\n",
       "      <td>0.096133</td>\n",
       "    </tr>\n",
       "    <tr>\n",
       "      <th>BRFOOD</th>\n",
       "      <td>0.088450</td>\n",
       "      <td>0.048792</td>\n",
       "      <td>0.082924</td>\n",
       "      <td>0.103742</td>\n",
       "      <td>0.294420</td>\n",
       "      <td>0.076823</td>\n",
       "    </tr>\n",
       "    <tr>\n",
       "      <th>BOVA</th>\n",
       "      <td>0.096568</td>\n",
       "      <td>0.069900</td>\n",
       "      <td>0.083194</td>\n",
       "      <td>0.096133</td>\n",
       "      <td>0.076823</td>\n",
       "      <td>0.077556</td>\n",
       "    </tr>\n",
       "  </tbody>\n",
       "</table>\n",
       "</div>"
      ],
      "text/plain": [
       "           PETROBRAS      VALE  BRADESCO  RENTACAR    BRFOOD      BOVA\n",
       "PETROBRAS   0.240391  0.091267  0.099822  0.102751  0.088450  0.096568\n",
       "VALE        0.091267  0.161322  0.061606  0.058648  0.048792  0.069900\n",
       "BRADESCO    0.099822  0.061606  0.150614  0.099615  0.082924  0.083194\n",
       "RENTACAR    0.102751  0.058648  0.099615  0.234118  0.103742  0.096133\n",
       "BRFOOD      0.088450  0.048792  0.082924  0.103742  0.294420  0.076823\n",
       "BOVA        0.096568  0.069900  0.083194  0.096133  0.076823  0.077556"
      ]
     },
     "execution_count": 38,
     "metadata": {},
     "output_type": "execute_result"
    }
   ],
   "source": [
    "taxa_retorno.cov() * 246"
   ]
  },
  {
   "cell_type": "markdown",
   "metadata": {},
   "source": [
    "> Calculando a covariância:"
   ]
  },
  {
   "cell_type": "code",
   "execution_count": 43,
   "metadata": {},
   "outputs": [
    {
     "data": {
      "text/plain": [
       "array([0.12453615, 0.08432704, 0.09891637, 0.11977478, 0.1236656 ,\n",
       "       0.08452359])"
      ]
     },
     "execution_count": 43,
     "metadata": {},
     "output_type": "execute_result"
    }
   ],
   "source": [
    "# Script efetua o calculo para multiplicar as matriz com os pesos. \n",
    "np.dot(taxa_retorno.cov() * 246, pesos1)"
   ]
  },
  {
   "cell_type": "markdown",
   "metadata": {},
   "source": [
    "> Calculo da variância do portfólio:"
   ]
  },
  {
   "cell_type": "code",
   "execution_count": 44,
   "metadata": {},
   "outputs": [
    {
     "data": {
      "text/plain": [
       "0.11024398720779671"
      ]
     },
     "execution_count": 44,
     "metadata": {},
     "output_type": "execute_result"
    }
   ],
   "source": [
    "variancia_portfolio = np.dot(pesos1, np.dot(taxa_retorno.cov() * 246, pesos1))\n",
    "variancia_portfolio"
   ]
  },
  {
   "cell_type": "markdown",
   "metadata": {},
   "source": [
    "> Calculo do desvio padrão do portfólio:"
   ]
  },
  {
   "cell_type": "code",
   "execution_count": 47,
   "metadata": {},
   "outputs": [
    {
     "data": {
      "text/plain": [
       "33.20300998521019"
      ]
     },
     "execution_count": 47,
     "metadata": {},
     "output_type": "execute_result"
    }
   ],
   "source": [
    "# Multiplicando por (* 100) para encontrar o resultado do desvio padrão em percentual... \n",
    "volatilidade_portifolio = np.sqrt(variancia_portfolio) * 100\n",
    "volatilidade_portifolio"
   ]
  },
  {
   "cell_type": "markdown",
   "metadata": {},
   "source": [
    "> Calculando a variância da ação 'BOVA':"
   ]
  },
  {
   "cell_type": "code",
   "execution_count": 51,
   "metadata": {},
   "outputs": [
    {
     "data": {
      "text/plain": [
       "array([0., 0., 0., 0., 0., 1.])"
      ]
     },
     "execution_count": 51,
     "metadata": {},
     "output_type": "execute_result"
    }
   ],
   "source": [
    "pesos2 = np.array([0.0, 0.0, 0.0, 0.0, 0.0, 1.0])\n",
    "pesos2"
   ]
  },
  {
   "cell_type": "code",
   "execution_count": 52,
   "metadata": {},
   "outputs": [
    {
     "data": {
      "text/plain": [
       "0.07755576306758931"
      ]
     },
     "execution_count": 52,
     "metadata": {},
     "output_type": "execute_result"
    }
   ],
   "source": [
    "\"\"\"\n",
    "    Primeiro efetuará a multiplicação entre as matrizes: 'pesos2' e 'np.dot(taxa_retorno.cov() * 246)'\n",
    "    e depois o resultado será multiplicado pela matriz: 'pesos2'...\n",
    "\"\"\"\n",
    "variancia_portifolio2 = np.dot(pesos2, np.dot(taxa_retorno.cov() * 246, pesos2))\n",
    "variancia_portifolio2"
   ]
  },
  {
   "cell_type": "markdown",
   "metadata": {},
   "source": [
    "> Calculando o desvio padrão da ação da'BOVA':"
   ]
  },
  {
   "cell_type": "code",
   "execution_count": 53,
   "metadata": {},
   "outputs": [
    {
     "data": {
      "text/plain": [
       "27.848835355825802"
      ]
     },
     "execution_count": 53,
     "metadata": {},
     "output_type": "execute_result"
    }
   ],
   "source": [
    "volatilidade_portifolio2 = np.sqrt(variancia_portifolio2) * 100\n",
    "volatilidade_portifolio2"
   ]
  },
  {
   "cell_type": "markdown",
   "metadata": {},
   "source": [
    "> Obs.: *Quando criamos a matriz de ações acima, utilizamos valores e não a transformamos em percentual. Portanto, nos calculos, foram inseridas multiplicações por 100 para gerar resultados em \"percentuais\"*...\n",
    "___________________________________________________________________________________________________________________________________________________________________________________________"
   ]
  },
  {
   "cell_type": "markdown",
   "metadata": {},
   "source": [
    "# Risco sistemático e não sistemático:\n",
    "\n",
    "- Risco sistemático: muda diáriamente no preço das ações, devido a eventos como recessão da ecônomia, comportamento do cliente (evento externo). Não pode ser eliminado e pode afetar todas as empresas.\n",
    "\n",
    "- Risco não sistemático: Eventos específicos na empresa (depende do tipo de empresa).\n",
    "\n",
    "\n",
    "**Calcular o risco não sistemático**, também conhecido como risco específico ou risco idiossincrático, **é considerado essencial na análise de risco de um portfólio**. O risco não sistemático refere-se à parte do risco de um ativo ou de um portfólio que é específica da empresa ou do setor e que pode ser reduzida por meio de diversificação.\n",
    "\n",
    "Ao construir um portfólio, os investidores procuram reduzir o risco total incorporando diferentes ativos em classes de ativos distintas. <u>O risco não sistemático é diversificável</u>, o que significa que ele pode ser mitigado ao espalhar os investimentos por diferentes ativos. Se um investidor possui um <u>portfólio concentrado em um único setor ou empresa, estará mais exposto ao risco não sistemático associado a essas escolhas específicas.</u>\n",
    "\n",
    "A análise do risco não sistemático permite aos investidores avaliar a eficácia da diversificação em seu portfólio. *Se o risco não sistemático for significativo, pode indicar que o portfólio ainda não está adequadamente diversificado, e há oportunidades para reduzir o risco total por meio da inclusão de ativos adicionais.*\n",
    "\n",
    "Portanto, ao analisar o risco de um portfólio, é fundamental considerar tanto o <u>risco sistemático quanto o não sistemático</u>, e a <u>diversificação</u> é uma estratégia comumente utilizada para gerenciar o risco não sistemático.\n"
   ]
  },
  {
   "cell_type": "code",
   "execution_count": 54,
   "metadata": {},
   "outputs": [
    {
     "data": {
      "text/html": [
       "<div>\n",
       "<style scoped>\n",
       "    .dataframe tbody tr th:only-of-type {\n",
       "        vertical-align: middle;\n",
       "    }\n",
       "\n",
       "    .dataframe tbody tr th {\n",
       "        vertical-align: top;\n",
       "    }\n",
       "\n",
       "    .dataframe thead th {\n",
       "        text-align: right;\n",
       "    }\n",
       "</style>\n",
       "<table border=\"1\" class=\"dataframe\">\n",
       "  <thead>\n",
       "    <tr style=\"text-align: right;\">\n",
       "      <th></th>\n",
       "      <th>PETROBRAS</th>\n",
       "      <th>VALE</th>\n",
       "      <th>BRADESCO</th>\n",
       "      <th>RENTACAR</th>\n",
       "      <th>BRFOOD</th>\n",
       "      <th>BOVA</th>\n",
       "    </tr>\n",
       "  </thead>\n",
       "  <tbody>\n",
       "    <tr>\n",
       "      <th>0</th>\n",
       "      <td>NaN</td>\n",
       "      <td>NaN</td>\n",
       "      <td>NaN</td>\n",
       "      <td>NaN</td>\n",
       "      <td>NaN</td>\n",
       "      <td>NaN</td>\n",
       "    </tr>\n",
       "    <tr>\n",
       "      <th>1</th>\n",
       "      <td>-0.008143</td>\n",
       "      <td>-0.007362</td>\n",
       "      <td>0.000000</td>\n",
       "      <td>-0.014510</td>\n",
       "      <td>0.001672</td>\n",
       "      <td>-0.003851</td>\n",
       "    </tr>\n",
       "    <tr>\n",
       "      <th>2</th>\n",
       "      <td>0.011823</td>\n",
       "      <td>-0.005934</td>\n",
       "      <td>-0.017862</td>\n",
       "      <td>-0.011656</td>\n",
       "      <td>-0.010295</td>\n",
       "      <td>-0.010633</td>\n",
       "    </tr>\n",
       "    <tr>\n",
       "      <th>3</th>\n",
       "      <td>-0.003895</td>\n",
       "      <td>0.007275</td>\n",
       "      <td>-0.017372</td>\n",
       "      <td>0.009725</td>\n",
       "      <td>-0.011527</td>\n",
       "      <td>-0.003109</td>\n",
       "    </tr>\n",
       "    <tr>\n",
       "      <th>4</th>\n",
       "      <td>-0.006191</td>\n",
       "      <td>0.000185</td>\n",
       "      <td>-0.015470</td>\n",
       "      <td>-0.004918</td>\n",
       "      <td>0.038396</td>\n",
       "      <td>-0.002584</td>\n",
       "    </tr>\n",
       "    <tr>\n",
       "      <th>...</th>\n",
       "      <td>...</td>\n",
       "      <td>...</td>\n",
       "      <td>...</td>\n",
       "      <td>...</td>\n",
       "      <td>...</td>\n",
       "      <td>...</td>\n",
       "    </tr>\n",
       "    <tr>\n",
       "      <th>1003</th>\n",
       "      <td>-0.012442</td>\n",
       "      <td>-0.012998</td>\n",
       "      <td>-0.008822</td>\n",
       "      <td>-0.014711</td>\n",
       "      <td>-0.007616</td>\n",
       "      <td>-0.018229</td>\n",
       "    </tr>\n",
       "    <tr>\n",
       "      <th>1004</th>\n",
       "      <td>-0.005774</td>\n",
       "      <td>-0.017984</td>\n",
       "      <td>0.001907</td>\n",
       "      <td>0.010949</td>\n",
       "      <td>-0.035303</td>\n",
       "      <td>-0.007650</td>\n",
       "    </tr>\n",
       "    <tr>\n",
       "      <th>1005</th>\n",
       "      <td>-0.003960</td>\n",
       "      <td>-0.005047</td>\n",
       "      <td>-0.005711</td>\n",
       "      <td>-0.025927</td>\n",
       "      <td>-0.012729</td>\n",
       "      <td>-0.007789</td>\n",
       "    </tr>\n",
       "    <tr>\n",
       "      <th>1006</th>\n",
       "      <td>-0.005301</td>\n",
       "      <td>-0.013044</td>\n",
       "      <td>-0.001914</td>\n",
       "      <td>0.012298</td>\n",
       "      <td>0.047542</td>\n",
       "      <td>0.002266</td>\n",
       "    </tr>\n",
       "    <tr>\n",
       "      <th>1007</th>\n",
       "      <td>0.004530</td>\n",
       "      <td>-0.004405</td>\n",
       "      <td>-0.011509</td>\n",
       "      <td>-0.022966</td>\n",
       "      <td>0.049231</td>\n",
       "      <td>-0.009205</td>\n",
       "    </tr>\n",
       "  </tbody>\n",
       "</table>\n",
       "<p>1008 rows × 6 columns</p>\n",
       "</div>"
      ],
      "text/plain": [
       "      PETROBRAS      VALE  BRADESCO  RENTACAR    BRFOOD      BOVA\n",
       "0           NaN       NaN       NaN       NaN       NaN       NaN\n",
       "1     -0.008143 -0.007362  0.000000 -0.014510  0.001672 -0.003851\n",
       "2      0.011823 -0.005934 -0.017862 -0.011656 -0.010295 -0.010633\n",
       "3     -0.003895  0.007275 -0.017372  0.009725 -0.011527 -0.003109\n",
       "4     -0.006191  0.000185 -0.015470 -0.004918  0.038396 -0.002584\n",
       "...         ...       ...       ...       ...       ...       ...\n",
       "1003  -0.012442 -0.012998 -0.008822 -0.014711 -0.007616 -0.018229\n",
       "1004  -0.005774 -0.017984  0.001907  0.010949 -0.035303 -0.007650\n",
       "1005  -0.003960 -0.005047 -0.005711 -0.025927 -0.012729 -0.007789\n",
       "1006  -0.005301 -0.013044 -0.001914  0.012298  0.047542  0.002266\n",
       "1007   0.004530 -0.004405 -0.011509 -0.022966  0.049231 -0.009205\n",
       "\n",
       "[1008 rows x 6 columns]"
      ]
     },
     "execution_count": 54,
     "metadata": {},
     "output_type": "execute_result"
    }
   ],
   "source": [
    "taxa_retorno"
   ]
  },
  {
   "cell_type": "markdown",
   "metadata": {},
   "source": [
    "> Pesos da primeira carteira que são todas as ações indivíduais menos a 'BOVA'."
   ]
  },
  {
   "cell_type": "code",
   "execution_count": 55,
   "metadata": {},
   "outputs": [
    {
     "data": {
      "text/plain": [
       "array([0.2, 0.2, 0.2, 0.2, 0.2, 0. ])"
      ]
     },
     "execution_count": 55,
     "metadata": {},
     "output_type": "execute_result"
    }
   ],
   "source": [
    "pesos1"
   ]
  },
  {
   "cell_type": "markdown",
   "metadata": {},
   "source": [
    "> Pesos da segunda carteira que é a ação da 'BOVA'."
   ]
  },
  {
   "cell_type": "code",
   "execution_count": 56,
   "metadata": {},
   "outputs": [
    {
     "data": {
      "text/plain": [
       "array([0., 0., 0., 0., 0., 1.])"
      ]
     },
     "execution_count": 56,
     "metadata": {},
     "output_type": "execute_result"
    }
   ],
   "source": [
    "pesos2"
   ]
  },
  {
   "cell_type": "markdown",
   "metadata": {},
   "source": [
    "> **Calculo da variância** - quanto que os dados estão variando comparando com a média..."
   ]
  },
  {
   "cell_type": "code",
   "execution_count": 58,
   "metadata": {},
   "outputs": [
    {
     "data": {
      "text/plain": [
       "PETROBRAS    0.240391\n",
       "VALE         0.161322\n",
       "BRADESCO     0.150614\n",
       "RENTACAR     0.234118\n",
       "BRFOOD       0.294420\n",
       "BOVA         0.077556\n",
       "dtype: float64"
      ]
     },
     "execution_count": 58,
     "metadata": {},
     "output_type": "execute_result"
    }
   ],
   "source": [
    "# O calculo da variância anual vem antes de efetuar o calculo do desvio padrão...\n",
    "taxa_retorno.var() * 246"
   ]
  },
  {
   "cell_type": "markdown",
   "metadata": {},
   "source": [
    "> Calculo das variâncias anuais pelos pesos..."
   ]
  },
  {
   "cell_type": "code",
   "execution_count": 59,
   "metadata": {},
   "outputs": [
    {
     "data": {
      "text/plain": [
       "PETROBRAS    0.048078\n",
       "VALE         0.032264\n",
       "BRADESCO     0.030123\n",
       "RENTACAR     0.046824\n",
       "BRFOOD       0.058884\n",
       "BOVA         0.000000\n",
       "dtype: float64"
      ]
     },
     "execution_count": 59,
     "metadata": {},
     "output_type": "execute_result"
    }
   ],
   "source": [
    "variancia_pesos1 = (taxa_retorno.var() * 246) * pesos1\n",
    "variancia_pesos1"
   ]
  },
  {
   "cell_type": "markdown",
   "metadata": {},
   "source": [
    "> Calculo do risco não sistemático...\n",
    "\n",
    "*Obs.: efetua-se subtração!*"
   ]
  },
  {
   "cell_type": "code",
   "execution_count": 60,
   "metadata": {},
   "outputs": [
    {
     "data": {
      "text/plain": [
       "-0.12001677709365832"
      ]
     },
     "execution_count": 60,
     "metadata": {},
     "output_type": "execute_result"
    }
   ],
   "source": [
    "from functools import reduce\n",
    "import operator\n",
    "# Calculando através da subtração das variâncias...\n",
    "sub = []\n",
    "# Loop para adicionar o valor das variancias na lista: 'sub'\n",
    "for i in range(5):\n",
    "    sub.append(variancia_pesos1[i])\n",
    "\n",
    "# Variável: 'resultado_subtração' recebe através da função reduce o resultado da subtração... \n",
    "resultado_subtracao = reduce(operator.sub, sub)\n",
    "resultado_subtracao\n"
   ]
  },
  {
   "cell_type": "markdown",
   "metadata": {},
   "source": [
    "> Variância do portfólio:"
   ]
  },
  {
   "cell_type": "code",
   "execution_count": 61,
   "metadata": {},
   "outputs": [
    {
     "data": {
      "text/plain": [
       "0.11024398720779671"
      ]
     },
     "execution_count": 61,
     "metadata": {},
     "output_type": "execute_result"
    }
   ],
   "source": [
    "variancia_portfolio"
   ]
  },
  {
   "cell_type": "markdown",
   "metadata": {},
   "source": [
    "> Para calcular o risco não sistemático deve-se subtrair o valor da variância do portfólio pelo valor do resultado da subtração"
   ]
  },
  {
   "cell_type": "code",
   "execution_count": 62,
   "metadata": {},
   "outputs": [
    {
     "data": {
      "text/plain": [
       "0.23026076430145503"
      ]
     },
     "execution_count": 62,
     "metadata": {},
     "output_type": "execute_result"
    }
   ],
   "source": [
    "risco_nao_sistematico = (variancia_portfolio - resultado_subtracao) \n",
    "risco_nao_sistematico"
   ]
  },
  {
   "cell_type": "markdown",
   "metadata": {},
   "source": [
    ">Calculo do risco não sistemático2:"
   ]
  },
  {
   "cell_type": "code",
   "execution_count": 64,
   "metadata": {},
   "outputs": [
    {
     "data": {
      "text/plain": [
       "PETROBRAS    0.000000\n",
       "VALE         0.000000\n",
       "BRADESCO     0.000000\n",
       "RENTACAR     0.000000\n",
       "BRFOOD       0.000000\n",
       "BOVA         0.077556\n",
       "dtype: float64"
      ]
     },
     "execution_count": 64,
     "metadata": {},
     "output_type": "execute_result"
    }
   ],
   "source": [
    "variancia_pesos2 = (taxa_retorno.var() * 246) * pesos2\n",
    "variancia_pesos2"
   ]
  },
  {
   "cell_type": "markdown",
   "metadata": {},
   "source": [
    "> Efetuando a subtração das variâncias2..."
   ]
  },
  {
   "cell_type": "code",
   "execution_count": 67,
   "metadata": {},
   "outputs": [
    {
     "data": {
      "text/plain": [
       "0.0"
      ]
     },
     "execution_count": 67,
     "metadata": {},
     "output_type": "execute_result"
    }
   ],
   "source": [
    "# Calculando através da subtração das variâncias...\n",
    "sub2 = []\n",
    "# Loop para adicionar o valor das variancias na lista: 'sub2'\n",
    "for i in range(5):\n",
    "    sub2.append(variancia_pesos2[i])\n",
    "\n",
    "# Variável: 'resultado_subtração' recebe através da função reduce o resultado da subtração... \n",
    "resultado_subtracao2 = reduce(operator.sub, sub2)\n",
    "resultado_subtracao2"
   ]
  },
  {
   "cell_type": "markdown",
   "metadata": {},
   "source": [
    "> variancia_portfolio2"
   ]
  },
  {
   "cell_type": "code",
   "execution_count": 68,
   "metadata": {},
   "outputs": [
    {
     "data": {
      "text/plain": [
       "0.07755576306758931"
      ]
     },
     "execution_count": 68,
     "metadata": {},
     "output_type": "execute_result"
    }
   ],
   "source": [
    "risco_nao_sistematico2 = (variancia_portifolio2 - resultado_subtracao2)\n",
    "risco_nao_sistematico2"
   ]
  },
  {
   "cell_type": "markdown",
   "metadata": {},
   "source": [
    "### **Conclusão:**\n",
    "\n",
    ">O resultado é que o risco não sistemático é menor na Carteira 2 - 0.0775557 (composta apenas pela ação 'BOVA') em comparação com a Carteira 1 - 0.2302607 (composta por ações individuais). Portanto, em termos de risco não sistemático, investir na Carteira 2 é considerado mais conservador do que investir nas ações individuais da Carteira 1. "
   ]
  },
  {
   "cell_type": "markdown",
   "metadata": {},
   "source": [
    "___________________________________________________________________________________________________________________________________________________________________________________________\n",
    "# Complemento:"
   ]
  },
  {
   "cell_type": "markdown",
   "metadata": {},
   "source": [
    "Determinar se um valor específico de risco não sistemático é considerado elevado ou aceitável depende do contexto do investimento, dos objetivos e da tolerância ao risco do investidor. Não existe um valor único considerado universalmente elevado ou aceitável, pois isso varia de acordo com as circunstâncias e as preferências individuais.\n",
    "\n",
    "A interpretação do valor de risco não sistemático deve ser feita em comparação com outros indicadores, como o risco total do portfólio, a taxa de retorno esperada e a meta de risco do investidor. Aqui estão algumas considerações gerais:\n",
    "\n",
    "1. **Comparação com o Risco Total do Portfólio:** Se o risco não sistemático for uma parte significativa do risco total do portfólio, pode indicar uma falta de diversificação eficaz. Nesse caso, pode ser desejável buscar uma maior diversificação para reduzir o risco específico.\n",
    "\n",
    "2. **Tolerância ao Risco do Investidor:** Investidores com diferentes perfis de risco podem ter tolerâncias variadas para o risco não sistemático. Alguns investidores podem estar dispostos a aceitar um nível mais elevado de risco específico em troca de retornos potencialmente mais altos, enquanto outros podem preferir uma abordagem mais conservadora.\n",
    "\n",
    "3. **Objetivos Financeiros:** Se o objetivo do investidor for otimizar o equilíbrio entre risco e retorno, pode ser necessário ajustar a alocação de ativos para alcançar um nível de risco que esteja alinhado com seus objetivos financeiros.\n",
    "\n",
    "4. **Contexto de Mercado:** Em períodos de volatilidade ou condições de mercado adversas, os investidores podem revisar suas estratégias de investimento e tolerância ao risco. Um valor de risco não sistemático pode ser avaliado de maneira diferente em diferentes contextos de mercado.\n",
    "\n",
    "Portanto, é recomendável avaliar o valor de risco não sistemático em conjunto com outros fatores relevantes para a situação específica do investidor. Se possível, consultar um consultor financeiro pode fornecer uma perspectiva mais personalizada e orientada para a situação individual.\n",
    "___________________________________________________________________________________________________________________________________________________________________________________________"
   ]
  }
 ],
 "metadata": {
  "kernelspec": {
   "display_name": "Python 3",
   "language": "python",
   "name": "python3"
  },
  "language_info": {
   "codemirror_mode": {
    "name": "ipython",
    "version": 3
   },
   "file_extension": ".py",
   "mimetype": "text/x-python",
   "name": "python",
   "nbconvert_exporter": "python",
   "pygments_lexer": "ipython3",
   "version": "3.10.0"
  }
 },
 "nbformat": 4,
 "nbformat_minor": 2
}
